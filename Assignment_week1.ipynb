{
 "cells": [
  {
   "cell_type": "markdown",
   "id": "1cf29efe-f06e-4392-8996-320f2aca56c5",
   "metadata": {},
   "source": [
    "Q1. Create one variable containing following type of data:\n",
    "(i) string\n",
    "(ii) list\n",
    "(iii) float\n",
    "(iv) tuple"
   ]
  },
  {
   "cell_type": "code",
   "execution_count": 1,
   "id": "a65e2cd3-5abb-460b-a42c-e30178711181",
   "metadata": {},
   "outputs": [],
   "source": [
    "str = \"Hello\""
   ]
  },
  {
   "cell_type": "code",
   "execution_count": 2,
   "id": "a67779e4-0f1b-46ba-90bb-8df46a17db89",
   "metadata": {},
   "outputs": [],
   "source": [
    "l = [1,2,33,44,\"\",\"Hello there\",str]"
   ]
  },
  {
   "cell_type": "code",
   "execution_count": 3,
   "id": "9c3ec949-1d60-4726-a183-5eee155ae1dc",
   "metadata": {},
   "outputs": [],
   "source": [
    "float_num = 12.56"
   ]
  },
  {
   "cell_type": "code",
   "execution_count": 4,
   "id": "2dd0b1fd-902a-42d6-990f-bcaab0a0a442",
   "metadata": {},
   "outputs": [],
   "source": [
    "tuple1 = (\"abc\", 34, True, 40, \"male\")"
   ]
  },
  {
   "cell_type": "code",
   "execution_count": 14,
   "id": "9bdf5a86-e425-4af3-a484-1beb70d708e7",
   "metadata": {},
   "outputs": [
    {
     "name": "stdout",
     "output_type": "stream",
     "text": [
      "<class 'str'> <class 'list'> <class 'float'> <class 'tuple'>\n"
     ]
    }
   ],
   "source": [
    "print(type(str), type(l), type(float_num), type(tuple1))"
   ]
  },
  {
   "cell_type": "markdown",
   "id": "54e661b5-cf90-4c1a-a93c-071bcb4c2dcd",
   "metadata": {},
   "source": [
    "Q2. Given are some following variables containing data:\n",
    "(i) var1 = ‘ ‘\n",
    "(ii) var2 = ‘[ DS , ML , Python]’\n",
    "(iii) var3 = [ ‘DS’ , ’ML’ , ‘Python’ ]\n",
    "(iv) var4 = 1."
   ]
  },
  {
   "cell_type": "code",
   "execution_count": 17,
   "id": "87629e94-1a9d-4baf-8fb9-40c2b77b41c4",
   "metadata": {},
   "outputs": [],
   "source": [
    "var1 = ''\n",
    "var2 = '[ DS , ML , Python]'\n",
    "var3 = [ 'DS' , 'ML' , 'Python' ]\n",
    "var4 = 1"
   ]
  },
  {
   "cell_type": "code",
   "execution_count": 18,
   "id": "259af908-1944-493d-baa2-a54199329c6a",
   "metadata": {},
   "outputs": [
    {
     "name": "stdout",
     "output_type": "stream",
     "text": [
      "<class 'str'> <class 'str'> <class 'list'> <class 'int'>\n"
     ]
    }
   ],
   "source": [
    "print(type(var1), type(var2), type(var3), type(var4))"
   ]
  },
  {
   "cell_type": "markdown",
   "id": "bee16989-a490-409e-b7f5-6005b47df118",
   "metadata": {},
   "source": [
    "Q3. Explain the use of the following operators using an example:\n",
    "(i) /\n",
    "(ii) %\n",
    "(iii) //\n",
    "(iv) **"
   ]
  },
  {
   "cell_type": "code",
   "execution_count": 19,
   "id": "f91e3f34-f91b-4a09-94aa-4ef63b78749c",
   "metadata": {},
   "outputs": [
    {
     "name": "stdout",
     "output_type": "stream",
     "text": [
      "10.0\n"
     ]
    }
   ],
   "source": [
    "# \"/\" is the division operator and gives exact value with decimals\n",
    "a = 20\n",
    "b = 2\n",
    "c = a/b\n",
    "print(c)"
   ]
  },
  {
   "cell_type": "code",
   "execution_count": 21,
   "id": "2f4483d3-bcb7-44cc-9dc4-4ff7b250ead7",
   "metadata": {},
   "outputs": [
    {
     "name": "stdout",
     "output_type": "stream",
     "text": [
      "2\n"
     ]
    }
   ],
   "source": [
    "# \"%\" is the modulas operator and gives remainder value\n",
    "a = 20\n",
    "b = 6\n",
    "c = a%b\n",
    "print(c)"
   ]
  },
  {
   "cell_type": "code",
   "execution_count": 22,
   "id": "c8da9f29-31a1-4fe6-b987-27bca0493ece",
   "metadata": {},
   "outputs": [
    {
     "name": "stdout",
     "output_type": "stream",
     "text": [
      "3\n"
     ]
    }
   ],
   "source": [
    "# \"//\" is the floor operator and gives quotient value\n",
    "a = 20\n",
    "b = 6\n",
    "c = a//b\n",
    "print(c)"
   ]
  },
  {
   "cell_type": "code",
   "execution_count": 23,
   "id": "0e6a3239-2316-4c09-8b4c-7ab0101d7b55",
   "metadata": {},
   "outputs": [
    {
     "name": "stdout",
     "output_type": "stream",
     "text": [
      "64000000\n"
     ]
    }
   ],
   "source": [
    "# \"**\" is the exponential operator and gives exponent value\n",
    "a = 20\n",
    "b = 6\n",
    "c = a**b\n",
    "print(c)"
   ]
  },
  {
   "cell_type": "markdown",
   "id": "796fd742-73b0-48fc-81e7-4245ec1d9671",
   "metadata": {},
   "source": [
    "Q4. Create a list of length 10 of your choice containing multiple types of data. Using for loop print the\n",
    "element and its data type."
   ]
  },
  {
   "cell_type": "code",
   "execution_count": 24,
   "id": "2fa662a9-024a-4a86-88ae-e698ed77dc76",
   "metadata": {},
   "outputs": [],
   "source": [
    "l = [1,2,33,44,\"\",\"Hello there\",str,True,['4','list'],4.3]"
   ]
  },
  {
   "cell_type": "code",
   "execution_count": 25,
   "id": "ac9af6ef-b4ca-49c6-b9a4-8c9c70c103c4",
   "metadata": {},
   "outputs": [
    {
     "name": "stdout",
     "output_type": "stream",
     "text": [
      "1\n",
      "<class 'int'>\n",
      "2\n",
      "<class 'int'>\n",
      "33\n",
      "<class 'int'>\n",
      "44\n",
      "<class 'int'>\n",
      "\n",
      "<class 'str'>\n",
      "Hello there\n",
      "<class 'str'>\n",
      "Hello\n",
      "<class 'str'>\n",
      "True\n",
      "<class 'bool'>\n",
      "['4', 'list']\n",
      "<class 'list'>\n",
      "4.3\n",
      "<class 'float'>\n"
     ]
    }
   ],
   "source": [
    "for i in l:\n",
    "    print(i)\n",
    "    print(type(i))"
   ]
  },
  {
   "cell_type": "markdown",
   "id": "47773b73-9564-4e6d-8060-08e00a5e2b78",
   "metadata": {},
   "source": [
    "Q5. Using a while loop, verify if the number A is purely divisible by number B and if so then how many\n",
    "times it can be divisible."
   ]
  },
  {
   "cell_type": "code",
   "execution_count": 45,
   "id": "34f93f34-db95-44b0-8385-baa787570f78",
   "metadata": {},
   "outputs": [
    {
     "name": "stdout",
     "output_type": "stream",
     "text": [
      "11\n"
     ]
    }
   ],
   "source": [
    "a = 12000000000\n",
    "b = 2\n",
    "count = 0\n",
    "while a%b == 0:\n",
    "    a = a//b\n",
    "    count +=1\n",
    "print(count)"
   ]
  },
  {
   "cell_type": "markdown",
   "id": "ae803d5f-5fb6-47cf-a1c4-7d1e84f944dd",
   "metadata": {},
   "source": [
    "Q6. Create a list containing 25 int type data. Using for loop and if-else condition print if the element is\n",
    "divisible by 3 or not."
   ]
  },
  {
   "cell_type": "code",
   "execution_count": 48,
   "id": "bf00c5dd-9146-4618-842a-fe1f7ce6d4bd",
   "metadata": {},
   "outputs": [],
   "source": [
    "l = []\n",
    "for i in range(1,26):\n",
    "    l.append(i)"
   ]
  },
  {
   "cell_type": "code",
   "execution_count": 50,
   "id": "ca7b069a-8970-466e-828d-db5bd9ad3fc3",
   "metadata": {},
   "outputs": [
    {
     "name": "stdout",
     "output_type": "stream",
     "text": [
      "Number 1 is not divisible by 3\n",
      "Number 2 is not divisible by 3\n",
      "Number 3 is divisible by 3\n",
      "Number 4 is not divisible by 3\n",
      "Number 5 is not divisible by 3\n",
      "Number 6 is divisible by 3\n",
      "Number 7 is not divisible by 3\n",
      "Number 8 is not divisible by 3\n",
      "Number 9 is divisible by 3\n",
      "Number 10 is not divisible by 3\n",
      "Number 11 is not divisible by 3\n",
      "Number 12 is divisible by 3\n",
      "Number 13 is not divisible by 3\n",
      "Number 14 is not divisible by 3\n",
      "Number 15 is divisible by 3\n",
      "Number 16 is not divisible by 3\n",
      "Number 17 is not divisible by 3\n",
      "Number 18 is divisible by 3\n",
      "Number 19 is not divisible by 3\n",
      "Number 20 is not divisible by 3\n",
      "Number 21 is divisible by 3\n",
      "Number 22 is not divisible by 3\n",
      "Number 23 is not divisible by 3\n",
      "Number 24 is divisible by 3\n",
      "Number 25 is not divisible by 3\n"
     ]
    }
   ],
   "source": [
    "for i in l:\n",
    "    if i % 3 == 0:\n",
    "        print(f\"Number {i} is divisible by 3\")\n",
    "    else:\n",
    "        print(f\"Number {i} is not divisible by 3\")"
   ]
  },
  {
   "cell_type": "markdown",
   "id": "ecb78cec-6680-48d8-816c-0d2fa95282fc",
   "metadata": {},
   "source": [
    "Q7. What do you understand about mutable and immutable data types? Give examples for both showing\n",
    "this property."
   ]
  },
  {
   "cell_type": "code",
   "execution_count": 51,
   "id": "1fb2f9f2-623a-4508-87c3-dd6c30d2be64",
   "metadata": {},
   "outputs": [],
   "source": [
    "l = [1,2,3]\n",
    "str = \"rupesh\"\n",
    "\n",
    "#here we can change the value in the list and that is called as utable objects\n",
    "l[1] = 20"
   ]
  },
  {
   "cell_type": "code",
   "execution_count": 52,
   "id": "a4170642-6ed2-42b1-b878-09250556022a",
   "metadata": {},
   "outputs": [
    {
     "data": {
      "text/plain": [
       "[1, 20, 3]"
      ]
     },
     "execution_count": 52,
     "metadata": {},
     "output_type": "execute_result"
    }
   ],
   "source": [
    "l"
   ]
  },
  {
   "cell_type": "code",
   "execution_count": 53,
   "id": "6636288d-c75f-4fc2-9cdb-f9b34aeba34b",
   "metadata": {},
   "outputs": [
    {
     "ename": "TypeError",
     "evalue": "'str' object does not support item assignment",
     "output_type": "error",
     "traceback": [
      "\u001b[0;31m---------------------------------------------------------------------------\u001b[0m",
      "\u001b[0;31mTypeError\u001b[0m                                 Traceback (most recent call last)",
      "Cell \u001b[0;32mIn[53], line 2\u001b[0m\n\u001b[1;32m      1\u001b[0m \u001b[38;5;66;03m# here we cannot change the element in string and that is called as immutbale objects\u001b[39;00m\n\u001b[0;32m----> 2\u001b[0m \u001b[38;5;28;43mstr\u001b[39;49m\u001b[43m[\u001b[49m\u001b[38;5;241;43m1\u001b[39;49m\u001b[43m]\u001b[49m \u001b[38;5;241m=\u001b[39m \u001b[38;5;124m\"\u001b[39m\u001b[38;5;124ma\u001b[39m\u001b[38;5;124m\"\u001b[39m\n",
      "\u001b[0;31mTypeError\u001b[0m: 'str' object does not support item assignment"
     ]
    }
   ],
   "source": [
    "# here we cannot change the element in string and that is called as immutbale objects\n",
    "str[1] = \"a\""
   ]
  }
 ],
 "metadata": {
  "kernelspec": {
   "display_name": "Python 3 (ipykernel)",
   "language": "python",
   "name": "python3"
  },
  "language_info": {
   "codemirror_mode": {
    "name": "ipython",
    "version": 3
   },
   "file_extension": ".py",
   "mimetype": "text/x-python",
   "name": "python",
   "nbconvert_exporter": "python",
   "pygments_lexer": "ipython3",
   "version": "3.10.8"
  }
 },
 "nbformat": 4,
 "nbformat_minor": 5
}
