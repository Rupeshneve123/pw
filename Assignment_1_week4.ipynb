{
 "cells": [
  {
   "cell_type": "markdown",
   "id": "8e8672ad-4d4b-4761-8cf2-fd154d515307",
   "metadata": {},
   "source": [
    "Q1, Create a vehicle class with an init method having instance variables as name_of_vehicle, max_speed\n",
    "and average_of_vehicle."
   ]
  },
  {
   "cell_type": "code",
   "execution_count": 2,
   "id": "0521d3c3-c3c9-4050-b60a-7afba2718d95",
   "metadata": {},
   "outputs": [],
   "source": [
    "class vehicle:\n",
    "    def __init__(self,name_of_vehicle,average_of_vehicle,max_speed):\n",
    "        self.name_of_vehicle = name_of_vehicle\n",
    "        self.average_of_vehicle = average_of_vehicle\n",
    "        self.max_speed = max_speed"
   ]
  },
  {
   "cell_type": "code",
   "execution_count": 3,
   "id": "089fbddc-d952-46a7-b332-e76535adac1d",
   "metadata": {},
   "outputs": [],
   "source": [
    "maruti = vehicle(\"Dzire\",22,180)"
   ]
  },
  {
   "cell_type": "code",
   "execution_count": 4,
   "id": "e7af79c3-ef40-430c-9266-d6fc15ba5ea1",
   "metadata": {},
   "outputs": [
    {
     "data": {
      "text/plain": [
       "180"
      ]
     },
     "execution_count": 4,
     "metadata": {},
     "output_type": "execute_result"
    }
   ],
   "source": [
    "maruti.max_speed"
   ]
  },
  {
   "cell_type": "markdown",
   "id": "e53895b3-7e20-488e-a546-6d5fda48fe76",
   "metadata": {},
   "source": [
    "Q2. Create a child class car from the vehicle class created in Que 1, which will inherit the vehicle class.\n",
    "Create a method named seating_capacity which takes capacity as an argument and returns the name of\n",
    "the vehicle and its seating capacity."
   ]
  },
  {
   "cell_type": "code",
   "execution_count": 16,
   "id": "5361fb30-87ac-46b6-9563-2e3a3ad5f9a0",
   "metadata": {},
   "outputs": [],
   "source": [
    "class vehicle_child(vehicle):\n",
    "\n",
    "    def seating_capacity(self,capacity):\n",
    "        return self.name_of_vehicle,capacity"
   ]
  },
  {
   "cell_type": "code",
   "execution_count": 19,
   "id": "6f06f3ca-d963-43c8-a9b6-a0b2668ef2cc",
   "metadata": {},
   "outputs": [],
   "source": [
    "maruti1 = vehicle_child(\"alto\",22,180) "
   ]
  },
  {
   "cell_type": "code",
   "execution_count": 20,
   "id": "3487e4ff-3631-4cb2-87f1-28f2453ed291",
   "metadata": {},
   "outputs": [
    {
     "data": {
      "text/plain": [
       "('alto', 5)"
      ]
     },
     "execution_count": 20,
     "metadata": {},
     "output_type": "execute_result"
    }
   ],
   "source": [
    "maruti1.seating_capacity(5)"
   ]
  },
  {
   "cell_type": "markdown",
   "id": "e05e1050-546d-4aaa-a945-71e74e13b8f6",
   "metadata": {},
   "source": [
    "Q3. What is multiple inheritance? Write a python code to demonstrate multiple inheritance."
   ]
  },
  {
   "cell_type": "markdown",
   "id": "deb0dae4-f9c9-47a1-861c-d60d103fe579",
   "metadata": {},
   "source": [
    "Multiple inheritance: When one class is inherited from two different classes its called as multiple inheritance."
   ]
  },
  {
   "cell_type": "code",
   "execution_count": 24,
   "id": "10d40e7d-682d-4be7-a28f-66a4ac255780",
   "metadata": {},
   "outputs": [],
   "source": [
    "class class1:\n",
    "    def class1(self):\n",
    "        print(\"I am class 1\")"
   ]
  },
  {
   "cell_type": "code",
   "execution_count": 25,
   "id": "4a5319e9-8a40-4a83-b6ef-d993204c53bd",
   "metadata": {},
   "outputs": [],
   "source": [
    "class class2:\n",
    "    def class2(self):\n",
    "        print(\"I am class 2\")"
   ]
  },
  {
   "cell_type": "code",
   "execution_count": 26,
   "id": "30173204-2280-4032-97d4-c71c5c7bc1c2",
   "metadata": {},
   "outputs": [],
   "source": [
    "class childclass(class1,class2):\n",
    "    def child(self):\n",
    "        pass"
   ]
  },
  {
   "cell_type": "code",
   "execution_count": 27,
   "id": "0288a7b7-2e52-40c1-b2da-1640e3a73329",
   "metadata": {},
   "outputs": [],
   "source": [
    "son = childclass()"
   ]
  },
  {
   "cell_type": "code",
   "execution_count": 28,
   "id": "fbfc363e-092a-4b4a-b484-37ee1a50a991",
   "metadata": {},
   "outputs": [
    {
     "name": "stdout",
     "output_type": "stream",
     "text": [
      "I am class 1\n"
     ]
    }
   ],
   "source": [
    "son.class1()"
   ]
  },
  {
   "cell_type": "code",
   "execution_count": 29,
   "id": "c710ce69-1207-40e2-b337-d13396c1379a",
   "metadata": {},
   "outputs": [
    {
     "name": "stdout",
     "output_type": "stream",
     "text": [
      "I am class 2\n"
     ]
    }
   ],
   "source": [
    "son.class2()"
   ]
  },
  {
   "cell_type": "markdown",
   "id": "76ed925e-d9e8-40be-96e4-f8de5750fd02",
   "metadata": {},
   "source": [
    "Q3. What is multiple inheritance? Write a python code to demonstrate multiple inheritance."
   ]
  },
  {
   "cell_type": "markdown",
   "id": "c0c8cf04-5af9-4954-a845-5313e57c3955",
   "metadata": {},
   "source": [
    "Getter and Setter in python refers to getting the value and setting the value in class methods, this is primarily used to set the values when private variables are not exposed to user."
   ]
  },
  {
   "cell_type": "code",
   "execution_count": 34,
   "id": "52d0f7b2-5a11-4157-bed9-e4f89ae83cba",
   "metadata": {},
   "outputs": [],
   "source": [
    "class student:\n",
    "\tdef __init__(self, age):\n",
    "\t\tself.__age = age\n",
    "\tdef get_age(self):\n",
    "\t\treturn self.__age\n",
    "\tdef set_age(self, x):\n",
    "\t\tself.__age = x"
   ]
  },
  {
   "cell_type": "code",
   "execution_count": 35,
   "id": "5b8b96a3-174e-4a73-af49-f574581bc1f3",
   "metadata": {},
   "outputs": [],
   "source": [
    "rupesh = student(24)"
   ]
  },
  {
   "cell_type": "code",
   "execution_count": 38,
   "id": "80cc3418-4435-4586-be4d-729ee5a73eda",
   "metadata": {},
   "outputs": [
    {
     "data": {
      "text/plain": [
       "34"
      ]
     },
     "execution_count": 38,
     "metadata": {},
     "output_type": "execute_result"
    }
   ],
   "source": [
    "rupesh.get_age()"
   ]
  },
  {
   "cell_type": "code",
   "execution_count": 37,
   "id": "00d3825b-fd2a-4961-be67-78ad886de017",
   "metadata": {},
   "outputs": [],
   "source": [
    "rupesh.set_age(34)"
   ]
  },
  {
   "cell_type": "markdown",
   "id": "92552d5f-2016-4a42-bb23-0606b352445f",
   "metadata": {},
   "source": [
    "Q5.What is method overriding in python? Write a python code to demonstrate method overriding."
   ]
  },
  {
   "cell_type": "markdown",
   "id": "2a4d3fbb-d07c-4ed2-91ad-7a0ffaaf4061",
   "metadata": {},
   "source": [
    "It allows a child class to provide a specific implementation of a method that is already provided by one of its super-classes or parent classes."
   ]
  },
  {
   "cell_type": "code",
   "execution_count": 39,
   "id": "7594a8b1-b780-4832-b6a5-21c4c867b38d",
   "metadata": {},
   "outputs": [],
   "source": [
    "class Parent():\n",
    "\tdef __init__(self):\n",
    "\t\tself.value = \"Parent\"\n",
    "\tdef show(self):\n",
    "\t\treturn self.value\n",
    "\t\t"
   ]
  },
  {
   "cell_type": "code",
   "execution_count": 40,
   "id": "5fbd995d-caed-4066-8d1d-e46aeafe068d",
   "metadata": {},
   "outputs": [],
   "source": [
    "class Child(Parent):\n",
    "\n",
    "\tdef __init__(self):\n",
    "\t\tself.value = \"Child\"\n",
    "\tdef show(self):\n",
    "\t\treturn self.value"
   ]
  },
  {
   "cell_type": "code",
   "execution_count": 41,
   "id": "f7847416-6391-4d98-ba6f-12b4637d3c5d",
   "metadata": {},
   "outputs": [],
   "source": [
    "obj1 = Parent()\n",
    "obj2 = Child()"
   ]
  },
  {
   "cell_type": "code",
   "execution_count": 43,
   "id": "0a1bf5e7-0b8a-457b-aabe-b732e074610d",
   "metadata": {},
   "outputs": [
    {
     "data": {
      "text/plain": [
       "'Parent'"
      ]
     },
     "execution_count": 43,
     "metadata": {},
     "output_type": "execute_result"
    }
   ],
   "source": [
    "obj1.show()"
   ]
  },
  {
   "cell_type": "code",
   "execution_count": 44,
   "id": "c4505901-c3e8-4498-be04-045f4f735c3d",
   "metadata": {},
   "outputs": [
    {
     "data": {
      "text/plain": [
       "'Child'"
      ]
     },
     "execution_count": 44,
     "metadata": {},
     "output_type": "execute_result"
    }
   ],
   "source": [
    "obj2.show()"
   ]
  },
  {
   "cell_type": "code",
   "execution_count": null,
   "id": "f7a833d7-5b93-46be-b18f-d8378313c410",
   "metadata": {},
   "outputs": [],
   "source": []
  }
 ],
 "metadata": {
  "kernelspec": {
   "display_name": "Python 3 (ipykernel)",
   "language": "python",
   "name": "python3"
  },
  "language_info": {
   "codemirror_mode": {
    "name": "ipython",
    "version": 3
   },
   "file_extension": ".py",
   "mimetype": "text/x-python",
   "name": "python",
   "nbconvert_exporter": "python",
   "pygments_lexer": "ipython3",
   "version": "3.10.8"
  }
 },
 "nbformat": 4,
 "nbformat_minor": 5
}
