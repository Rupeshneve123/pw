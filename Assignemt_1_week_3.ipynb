{
 "cells": [
  {
   "cell_type": "markdown",
   "id": "4011ba82-861e-4e46-a2c7-2ef791af48d3",
   "metadata": {},
   "source": [
    "Q1. Which keyword is used to create a function? Create a function to return a list of odd numbers in the\n",
    "range of 1 to 25."
   ]
  },
  {
   "cell_type": "markdown",
   "id": "a3f43057-ec9e-48b0-8a19-85d1a888c081",
   "metadata": {},
   "source": [
    "\"def\" is the keyword used to define function."
   ]
  },
  {
   "cell_type": "code",
   "execution_count": 3,
   "id": "067792f1-0790-48e0-bf0f-91cfcb8191c7",
   "metadata": {},
   "outputs": [],
   "source": [
    "def return_odd():\n",
    "    l = []\n",
    "    for i in range(1,26):\n",
    "        if i % 2 == 0:\n",
    "            l.append(i)\n",
    "    return l"
   ]
  },
  {
   "cell_type": "code",
   "execution_count": 4,
   "id": "3f5685f4-17a7-4e48-9afa-07ddd221393a",
   "metadata": {},
   "outputs": [
    {
     "data": {
      "text/plain": [
       "[2, 4, 6, 8, 10, 12, 14, 16, 18, 20, 22, 24]"
      ]
     },
     "execution_count": 4,
     "metadata": {},
     "output_type": "execute_result"
    }
   ],
   "source": [
    "return_odd()"
   ]
  },
  {
   "cell_type": "markdown",
   "id": "d160be45-48a6-45a4-b2a2-2938b8f0a33d",
   "metadata": {},
   "source": [
    "Q2. Why *args and **kwargs is used in some functions? Create a function each for *args and **kwargs\n",
    "to demonstrate their use."
   ]
  },
  {
   "cell_type": "markdown",
   "id": "517e0008-ce1a-4e89-86cf-1fa84385a913",
   "metadata": {},
   "source": [
    "When there are no specific arguments needed to pass in function and user don;t have any idea that how many arguments will go in function we can use *args and **kwargs.\n",
    "\n",
    "*args: Multiple arguments can be passed and returns a tuple\n",
    "\n",
    "**kwargs: Multiple arguments can be passed and returns a dictionary"
   ]
  },
  {
   "cell_type": "code",
   "execution_count": 5,
   "id": "4809b41f-b2a9-428e-bb85-0a332c13be26",
   "metadata": {},
   "outputs": [],
   "source": [
    "def hello(*args):\n",
    "    return args"
   ]
  },
  {
   "cell_type": "code",
   "execution_count": 6,
   "id": "061d3eb6-831b-4ebb-a449-29d5aef5f106",
   "metadata": {},
   "outputs": [
    {
     "data": {
      "text/plain": [
       "(1, 2, 3, 'hello', {1, 2, 3, 4}, ('hello again', 3, 4))"
      ]
     },
     "execution_count": 6,
     "metadata": {},
     "output_type": "execute_result"
    }
   ],
   "source": [
    "hello(1,2,3,\"hello\",{1,2,3,4},(\"hello again\", 3,4))"
   ]
  },
  {
   "cell_type": "code",
   "execution_count": 7,
   "id": "02b3ca48-45ab-461b-85ac-8fdea75c12e1",
   "metadata": {},
   "outputs": [
    {
     "data": {
      "text/plain": [
       "tuple"
      ]
     },
     "execution_count": 7,
     "metadata": {},
     "output_type": "execute_result"
    }
   ],
   "source": [
    "type(hello())"
   ]
  },
  {
   "cell_type": "code",
   "execution_count": 8,
   "id": "860a0dde-618a-45ac-9a17-36e7c8220d5a",
   "metadata": {},
   "outputs": [],
   "source": [
    "def hello2(**kwargs):\n",
    "    return kwargs"
   ]
  },
  {
   "cell_type": "code",
   "execution_count": 9,
   "id": "17fffd01-c80f-4b3b-9244-09d2a3f909cd",
   "metadata": {},
   "outputs": [
    {
     "data": {
      "text/plain": [
       "{'a': 'rupesh',\n",
       " 'b': 'neve',\n",
       " 'c': {3, 12},\n",
       " 'd': {'a': 'pwskills'},\n",
       " 'e': {1, 2, 3, 4}}"
      ]
     },
     "execution_count": 9,
     "metadata": {},
     "output_type": "execute_result"
    }
   ],
   "source": [
    "hello2(a=\"rupesh\", b=\"neve\", c={12,3,3,3,3,3,3}, d={\"a\":\"pwskills\"}, e={1,2,3,4,4})"
   ]
  },
  {
   "cell_type": "code",
   "execution_count": 10,
   "id": "59354360-c001-416c-9e1d-4f78b9a4df20",
   "metadata": {},
   "outputs": [
    {
     "data": {
      "text/plain": [
       "dict"
      ]
     },
     "execution_count": 10,
     "metadata": {},
     "output_type": "execute_result"
    }
   ],
   "source": [
    "type(hello2())"
   ]
  },
  {
   "cell_type": "markdown",
   "id": "a595d231-63eb-456a-8978-53325d4ad50a",
   "metadata": {},
   "source": [
    "Q3. What is an iterator in python? Name the method used to initialise the iterator object and the method\n",
    "used for iteration. Use these methods to print the first five elements of the given list [2, 4, 6, 8, 10, 12, 14,\n",
    "16, 18, 20]."
   ]
  },
  {
   "cell_type": "markdown",
   "id": "9ea3d7ee-809e-4408-b35b-b8b4082e5084",
   "metadata": {},
   "source": [
    "\n",
    "An iterator in Python is an object that can be iterated, meaning that you can traverse through all the values in the object. \n",
    "iter() is used to initiase the iterator object\n",
    "next() is used to go to next element"
   ]
  },
  {
   "cell_type": "code",
   "execution_count": 11,
   "id": "a5f965ee-999d-4d58-906f-cd1b79bfbf0d",
   "metadata": {},
   "outputs": [
    {
     "name": "stdout",
     "output_type": "stream",
     "text": [
      "2\n",
      "4\n",
      "6\n",
      "8\n",
      "10\n"
     ]
    }
   ],
   "source": [
    "l = [2, 4, 6, 8, 10, 12, 14, 16, 18, 20]\n",
    "\n",
    "iterator = iter(l)\n",
    "for i in range(5):\n",
    "    print(next(iterator))\n"
   ]
  },
  {
   "cell_type": "markdown",
   "id": "179a4f6b-4d6a-41d0-bdec-25aad4680f5e",
   "metadata": {},
   "source": [
    "Q4. What is a generator function in python? Why yield keyword is used? Give an example of a generator\n",
    "function."
   ]
  },
  {
   "cell_type": "markdown",
   "id": "d91f38c4-aeef-4941-bb74-2d9c530768ce",
   "metadata": {},
   "source": [
    "A generator function is used to generate the iterator/sequence. Values are not generated until they are needed. This can be useful for saving memory and improving performance. \n",
    "\n",
    "Yield keyword is used to pop out the value"
   ]
  },
  {
   "cell_type": "code",
   "execution_count": 16,
   "id": "8421e6f2-cb5e-4e94-97ea-baeedbba3cb1",
   "metadata": {},
   "outputs": [],
   "source": [
    "def seq(n):\n",
    "    for i in range(n):\n",
    "        yield i\n",
    "        "
   ]
  },
  {
   "cell_type": "code",
   "execution_count": 17,
   "id": "c8befd5a-92e0-4183-a7d2-3e30635aa453",
   "metadata": {},
   "outputs": [
    {
     "data": {
      "text/plain": [
       "<generator object seq at 0x7f33de4eece0>"
      ]
     },
     "execution_count": 17,
     "metadata": {},
     "output_type": "execute_result"
    }
   ],
   "source": [
    "seq(5)"
   ]
  },
  {
   "cell_type": "code",
   "execution_count": 18,
   "id": "c7c7423e-c6bc-4663-8f89-1905e0459042",
   "metadata": {},
   "outputs": [
    {
     "data": {
      "text/plain": [
       "[0, 1, 2, 3, 4]"
      ]
     },
     "execution_count": 18,
     "metadata": {},
     "output_type": "execute_result"
    }
   ],
   "source": [
    "list(seq(5))"
   ]
  },
  {
   "cell_type": "markdown",
   "id": "3d1b06f6-d3fb-4a82-afe8-3542f4344ef8",
   "metadata": {},
   "source": [
    "Q5. Create a generator function for prime numbers less than 1000. Use the next() method to print the\n",
    "first 20 prime numbers."
   ]
  },
  {
   "cell_type": "code",
   "execution_count": 31,
   "id": "41b57a86-30d5-4a85-8659-dfece6cf0358",
   "metadata": {},
   "outputs": [
    {
     "name": "stdout",
     "output_type": "stream",
     "text": [
      "2\n",
      "2\n",
      "2\n",
      "2\n",
      "2\n",
      "2\n",
      "2\n",
      "2\n",
      "2\n",
      "2\n",
      "2\n",
      "2\n",
      "2\n",
      "2\n",
      "2\n",
      "2\n",
      "2\n",
      "2\n",
      "2\n",
      "2\n"
     ]
    }
   ],
   "source": [
    "def prime_generator():\n",
    "    for Number in range (1, 101):\n",
    "        count = 0\n",
    "        for i in range(2, (Number//2 + 1)):\n",
    "            if(Number % i == 0):\n",
    "                count = count + 1\n",
    "                break\n",
    "\n",
    "        if (count == 0 and Number != 1):\n",
    "            yield Number\n",
    "\n",
    "\n",
    "for i in range(20):\n",
    "    print(next(prime_generator()))\n"
   ]
  },
  {
   "cell_type": "markdown",
   "id": "070f92e9-dafd-4fd5-aa81-c001026fff2e",
   "metadata": {},
   "source": [
    "Q6. Write a python program to print the first 10 Fibonacci numbers using a while loop."
   ]
  },
  {
   "cell_type": "code",
   "execution_count": 47,
   "id": "f11efd0f-d382-4528-9afb-36d516cc3883",
   "metadata": {},
   "outputs": [],
   "source": [
    "def fibo(n):\n",
    "    a,b = 0,1\n",
    "    # for i in range(n):\n",
    "    i=0\n",
    "    while i<n:\n",
    "        yield a\n",
    "        a = b\n",
    "        b = a+b\n",
    "        i += 1"
   ]
  },
  {
   "cell_type": "code",
   "execution_count": 51,
   "id": "dac6ea9c-b14d-4c8c-94c9-bc2fbfeac596",
   "metadata": {},
   "outputs": [
    {
     "data": {
      "text/plain": [
       "<generator object fibo at 0x7f33dc2cfd80>"
      ]
     },
     "execution_count": 51,
     "metadata": {},
     "output_type": "execute_result"
    }
   ],
   "source": [
    "fibo(10)"
   ]
  },
  {
   "cell_type": "code",
   "execution_count": 52,
   "id": "81ef6d6f-4a35-4f22-b52d-79a729d1c344",
   "metadata": {},
   "outputs": [
    {
     "data": {
      "text/plain": [
       "[0, 1, 2, 4, 8, 16, 32, 64, 128, 256]"
      ]
     },
     "execution_count": 52,
     "metadata": {},
     "output_type": "execute_result"
    }
   ],
   "source": [
    "list(fibo(10))"
   ]
  },
  {
   "cell_type": "markdown",
   "id": "e573c5f0-71b7-4c6e-9e20-d5608b57ffad",
   "metadata": {},
   "source": [
    "Q7. Write a List Comprehension to iterate through the given string: ‘pwskills’.\n",
    "Expected output: ['p', 'w', 's', 'k', 'i', 'l', 'l', 's']"
   ]
  },
  {
   "cell_type": "code",
   "execution_count": 53,
   "id": "3eef81a7-2f72-4c5b-afa8-bbf4e86d6e49",
   "metadata": {},
   "outputs": [],
   "source": [
    "s = 'pwskills'"
   ]
  },
  {
   "cell_type": "code",
   "execution_count": 62,
   "id": "59c51abf-8ec6-4112-a39f-8fbeb816c7ff",
   "metadata": {},
   "outputs": [],
   "source": [
    "l = []\n",
    "for i in s:\n",
    "    l.append(i)"
   ]
  },
  {
   "cell_type": "code",
   "execution_count": 63,
   "id": "e5670fd5-0358-450a-a63a-21c7ce51830a",
   "metadata": {},
   "outputs": [
    {
     "data": {
      "text/plain": [
       "['p', 'w', 's', 'k', 'i', 'l', 'l', 's']"
      ]
     },
     "execution_count": 63,
     "metadata": {},
     "output_type": "execute_result"
    }
   ],
   "source": [
    "l"
   ]
  },
  {
   "cell_type": "markdown",
   "id": "c896cfa0-8069-4649-be74-20f4e5a98f0a",
   "metadata": {},
   "source": [
    "Q8. Write a python program to check whether a given number is Palindrome or not using a while loop."
   ]
  },
  {
   "cell_type": "code",
   "execution_count": 2,
   "id": "9ef2d693-f7aa-47e2-9358-e4c005222af0",
   "metadata": {},
   "outputs": [],
   "source": [
    "def pal(s):\n",
    "    while s[::-1].lower() == s.lower():\n",
    "        print(\"palindrom\")\n",
    "        break\n",
    "    else: \n",
    "        print(\"Not palindrom\")"
   ]
  },
  {
   "cell_type": "code",
   "execution_count": 3,
   "id": "b486788e-4c03-4b25-8f28-05b397c6c17e",
   "metadata": {},
   "outputs": [
    {
     "name": "stdout",
     "output_type": "stream",
     "text": [
      "Not palindrom\n"
     ]
    }
   ],
   "source": [
    "pal('dfdss')"
   ]
  },
  {
   "cell_type": "code",
   "execution_count": 4,
   "id": "cfdad85f-77b6-4edb-b520-39caca7856af",
   "metadata": {},
   "outputs": [
    {
     "name": "stdout",
     "output_type": "stream",
     "text": [
      "palindrom\n"
     ]
    }
   ],
   "source": [
    "pal(\"Noon\")\n"
   ]
  },
  {
   "cell_type": "markdown",
   "id": "32348f47-bdc0-464e-add5-ede36b16312c",
   "metadata": {},
   "source": [
    "Q9. Write a code to print odd numbers from 1 to 100 using list comprehension.\n",
    "Note: Use a list comprehension to create a list from 1 to 100 and use another List comprehension to filter\n",
    "out odd numbers."
   ]
  },
  {
   "cell_type": "code",
   "execution_count": 8,
   "id": "6f73af1c-0328-4e0f-a93f-c629ab76cf0a",
   "metadata": {},
   "outputs": [],
   "source": [
    "a = lambda x: [i for i in range(1,x)]"
   ]
  },
  {
   "cell_type": "code",
   "execution_count": 10,
   "id": "78fb7361-4c77-4329-88a3-e7a6f05f9ee1",
   "metadata": {},
   "outputs": [],
   "source": [
    "l1 = a(101)"
   ]
  },
  {
   "cell_type": "code",
   "execution_count": 12,
   "id": "835a6e63-bb7b-47b0-8965-eb9c9bba4396",
   "metadata": {},
   "outputs": [
    {
     "data": {
      "text/plain": [
       "[1,\n",
       " 2,\n",
       " 3,\n",
       " 4,\n",
       " 5,\n",
       " 6,\n",
       " 7,\n",
       " 8,\n",
       " 9,\n",
       " 10,\n",
       " 11,\n",
       " 12,\n",
       " 13,\n",
       " 14,\n",
       " 15,\n",
       " 16,\n",
       " 17,\n",
       " 18,\n",
       " 19,\n",
       " 20,\n",
       " 21,\n",
       " 22,\n",
       " 23,\n",
       " 24,\n",
       " 25,\n",
       " 26,\n",
       " 27,\n",
       " 28,\n",
       " 29,\n",
       " 30,\n",
       " 31,\n",
       " 32,\n",
       " 33,\n",
       " 34,\n",
       " 35,\n",
       " 36,\n",
       " 37,\n",
       " 38,\n",
       " 39,\n",
       " 40,\n",
       " 41,\n",
       " 42,\n",
       " 43,\n",
       " 44,\n",
       " 45,\n",
       " 46,\n",
       " 47,\n",
       " 48,\n",
       " 49,\n",
       " 50,\n",
       " 51,\n",
       " 52,\n",
       " 53,\n",
       " 54,\n",
       " 55,\n",
       " 56,\n",
       " 57,\n",
       " 58,\n",
       " 59,\n",
       " 60,\n",
       " 61,\n",
       " 62,\n",
       " 63,\n",
       " 64,\n",
       " 65,\n",
       " 66,\n",
       " 67,\n",
       " 68,\n",
       " 69,\n",
       " 70,\n",
       " 71,\n",
       " 72,\n",
       " 73,\n",
       " 74,\n",
       " 75,\n",
       " 76,\n",
       " 77,\n",
       " 78,\n",
       " 79,\n",
       " 80,\n",
       " 81,\n",
       " 82,\n",
       " 83,\n",
       " 84,\n",
       " 85,\n",
       " 86,\n",
       " 87,\n",
       " 88,\n",
       " 89,\n",
       " 90,\n",
       " 91,\n",
       " 92,\n",
       " 93,\n",
       " 94,\n",
       " 95,\n",
       " 96,\n",
       " 97,\n",
       " 98,\n",
       " 99,\n",
       " 100]"
      ]
     },
     "execution_count": 12,
     "metadata": {},
     "output_type": "execute_result"
    }
   ],
   "source": [
    "l1"
   ]
  },
  {
   "cell_type": "code",
   "execution_count": 15,
   "id": "85149fb3-3835-4ec9-a7d6-40fe34c51d5c",
   "metadata": {},
   "outputs": [],
   "source": [
    "l2 = list(filter(lambda x: x % 2 != 0, l1))"
   ]
  },
  {
   "cell_type": "code",
   "execution_count": 16,
   "id": "8ae7fb1a-ec72-483c-a6f4-b732f3992b4b",
   "metadata": {},
   "outputs": [
    {
     "data": {
      "text/plain": [
       "[1,\n",
       " 3,\n",
       " 5,\n",
       " 7,\n",
       " 9,\n",
       " 11,\n",
       " 13,\n",
       " 15,\n",
       " 17,\n",
       " 19,\n",
       " 21,\n",
       " 23,\n",
       " 25,\n",
       " 27,\n",
       " 29,\n",
       " 31,\n",
       " 33,\n",
       " 35,\n",
       " 37,\n",
       " 39,\n",
       " 41,\n",
       " 43,\n",
       " 45,\n",
       " 47,\n",
       " 49,\n",
       " 51,\n",
       " 53,\n",
       " 55,\n",
       " 57,\n",
       " 59,\n",
       " 61,\n",
       " 63,\n",
       " 65,\n",
       " 67,\n",
       " 69,\n",
       " 71,\n",
       " 73,\n",
       " 75,\n",
       " 77,\n",
       " 79,\n",
       " 81,\n",
       " 83,\n",
       " 85,\n",
       " 87,\n",
       " 89,\n",
       " 91,\n",
       " 93,\n",
       " 95,\n",
       " 97,\n",
       " 99]"
      ]
     },
     "execution_count": 16,
     "metadata": {},
     "output_type": "execute_result"
    }
   ],
   "source": [
    "l2"
   ]
  },
  {
   "cell_type": "code",
   "execution_count": null,
   "id": "cec13a89-7d5e-4c10-a6f3-f4d779603f57",
   "metadata": {},
   "outputs": [],
   "source": []
  }
 ],
 "metadata": {
  "kernelspec": {
   "display_name": "Python 3 (ipykernel)",
   "language": "python",
   "name": "python3"
  },
  "language_info": {
   "codemirror_mode": {
    "name": "ipython",
    "version": 3
   },
   "file_extension": ".py",
   "mimetype": "text/x-python",
   "name": "python",
   "nbconvert_exporter": "python",
   "pygments_lexer": "ipython3",
   "version": "3.10.8"
  }
 },
 "nbformat": 4,
 "nbformat_minor": 5
}
