{
 "cells": [
  {
   "cell_type": "markdown",
   "id": "52f39f41-c659-4366-adc0-36be77798918",
   "metadata": {},
   "source": [
    "Q1. How do you comment code in Python? What are the different types of comments?\n"
   ]
  },
  {
   "cell_type": "markdown",
   "id": "798473c2-eddd-4d27-a489-e86342a09e9b",
   "metadata": {},
   "source": [
    "Commenting in python can be done in three ways such as,\n",
    "1) Single line comment - By using # on the statement\n",
    "2) Multi Line comment - By using # on each line\n",
    "3) Doc string - We can write the paragraph inside \"\"\" \"\"\" triple quotes.\n",
    "\n",
    "Examples:"
   ]
  },
  {
   "cell_type": "code",
   "execution_count": 1,
   "id": "959ad39c-016f-41f0-9c5d-75e5684cab77",
   "metadata": {},
   "outputs": [],
   "source": [
    "# single line comment"
   ]
  },
  {
   "cell_type": "code",
   "execution_count": 2,
   "id": "94ac2237-8284-4728-9544-f95ee543ab18",
   "metadata": {},
   "outputs": [],
   "source": [
    "# This is multi\n",
    "# line comment"
   ]
  },
  {
   "cell_type": "code",
   "execution_count": 3,
   "id": "f67e3a83-7413-4afc-ad73-24a99a1c33ff",
   "metadata": {},
   "outputs": [
    {
     "data": {
      "text/plain": [
       "'\\nThis is doc string comment\\n'"
      ]
     },
     "execution_count": 3,
     "metadata": {},
     "output_type": "execute_result"
    }
   ],
   "source": [
    "\"\"\"\n",
    "This is doc string comment\n",
    "\"\"\""
   ]
  },
  {
   "cell_type": "markdown",
   "id": "8e8e693e-a128-451e-b573-4f8565a2cc98",
   "metadata": {},
   "source": [
    "Q2. What are variables in Python? How do you declare and assign values to variables?\n"
   ]
  },
  {
   "cell_type": "markdown",
   "id": "2a3026cb-31eb-4af3-a800-94b579406221",
   "metadata": {},
   "source": [
    "Variables are the symbolic names which refer to the object in backend and data/values which are assigned to that variable are stored in that object. \n",
    "\n",
    "Example:\n"
   ]
  },
  {
   "cell_type": "code",
   "execution_count": 4,
   "id": "ebeae5d9-b226-440d-a7bd-63352c688638",
   "metadata": {},
   "outputs": [],
   "source": [
    "var_1 = \"Rupesh\""
   ]
  },
  {
   "cell_type": "code",
   "execution_count": 5,
   "id": "40a4b71c-bdfd-4550-9974-884d7c89e698",
   "metadata": {},
   "outputs": [],
   "source": [
    "var_2 = 12"
   ]
  },
  {
   "cell_type": "code",
   "execution_count": 6,
   "id": "bed6b239-773e-471c-9107-15d76bd3dc0d",
   "metadata": {},
   "outputs": [
    {
     "data": {
      "text/plain": [
       "'Rupesh'"
      ]
     },
     "execution_count": 6,
     "metadata": {},
     "output_type": "execute_result"
    }
   ],
   "source": [
    "var_1"
   ]
  },
  {
   "cell_type": "code",
   "execution_count": 7,
   "id": "e1c68636-fde0-4f53-bd6d-3d159297938c",
   "metadata": {},
   "outputs": [
    {
     "data": {
      "text/plain": [
       "12"
      ]
     },
     "execution_count": 7,
     "metadata": {},
     "output_type": "execute_result"
    }
   ],
   "source": [
    "var_2"
   ]
  },
  {
   "cell_type": "markdown",
   "id": "0e5b6f94-420c-470f-8cda-d8e5331a8059",
   "metadata": {},
   "source": [
    "Q3. How do you convert one data type to another in Python?"
   ]
  },
  {
   "cell_type": "markdown",
   "id": "289eea0e-551a-4143-9a38-15f398ea66be",
   "metadata": {},
   "source": [
    "One data type can be converted into another by using type casting.\n",
    "\n",
    "Example:"
   ]
  },
  {
   "cell_type": "code",
   "execution_count": 9,
   "id": "884dfd9c-8a7e-4b7b-a904-39404f007dad",
   "metadata": {},
   "outputs": [
    {
     "data": {
      "text/plain": [
       "int"
      ]
     },
     "execution_count": 9,
     "metadata": {},
     "output_type": "execute_result"
    }
   ],
   "source": [
    "type(var_2)"
   ]
  },
  {
   "cell_type": "code",
   "execution_count": 10,
   "id": "71a00793-a847-4237-97f4-e169d1681577",
   "metadata": {},
   "outputs": [
    {
     "data": {
      "text/plain": [
       "'12'"
      ]
     },
     "execution_count": 10,
     "metadata": {},
     "output_type": "execute_result"
    }
   ],
   "source": [
    "str(var_2)"
   ]
  },
  {
   "cell_type": "code",
   "execution_count": 12,
   "id": "0e9122c8-a048-4694-9ceb-3f3970aea508",
   "metadata": {},
   "outputs": [],
   "source": [
    "type_casted_var = type(var_2)"
   ]
  },
  {
   "cell_type": "code",
   "execution_count": 13,
   "id": "b096593d-1e66-411a-87ca-e8eb3da46986",
   "metadata": {},
   "outputs": [
    {
     "data": {
      "text/plain": [
       "int"
      ]
     },
     "execution_count": 13,
     "metadata": {},
     "output_type": "execute_result"
    }
   ],
   "source": [
    "type_casted_var"
   ]
  },
  {
   "cell_type": "markdown",
   "id": "e1495572-ae30-4fa9-9856-adde4582c380",
   "metadata": {},
   "source": [
    "Q4. How do you write and execute a Python script from the command line?\n"
   ]
  },
  {
   "cell_type": "markdown",
   "id": "bf4470bc-b4f0-4503-8c0a-7c685624268f",
   "metadata": {},
   "source": [
    "To write and execute python script from command line we can follow the following steps:\n",
    "1) open terminal and write python (python variable should be set)\n",
    "2) write your code block and after clicking enter python code block will be executed\n",
    "3) If you have your script in file then move to that folder through cmd and execute this command \"python file_name.py\" "
   ]
  },
  {
   "cell_type": "markdown",
   "id": "7fc2e86f-09bc-4538-becc-09286b0dbb1f",
   "metadata": {},
   "source": [
    "Q5. Given a list my_list = [1, 2, 3, 4, 5], write the code to slice the list and obtain the sub-list [2, 3]."
   ]
  },
  {
   "cell_type": "code",
   "execution_count": 1,
   "id": "9bc61cc6-41bc-4c90-88d9-46af8e19ef15",
   "metadata": {},
   "outputs": [],
   "source": [
    " my_list = [1, 2, 3, 4, 5]"
   ]
  },
  {
   "cell_type": "code",
   "execution_count": 7,
   "id": "77551405-4369-4a4f-8a50-f7a7b98b2f97",
   "metadata": {},
   "outputs": [],
   "source": [
    "list_ = []"
   ]
  },
  {
   "cell_type": "code",
   "execution_count": 8,
   "id": "9c3b8868-3fcc-4536-b2e7-83ca97797002",
   "metadata": {},
   "outputs": [],
   "source": [
    "list_.append(my_list[1])"
   ]
  },
  {
   "cell_type": "code",
   "execution_count": 9,
   "id": "cb8081d2-580b-4701-add8-46c89a6f751d",
   "metadata": {},
   "outputs": [],
   "source": [
    "list_.append(my_list[2])"
   ]
  },
  {
   "cell_type": "code",
   "execution_count": 10,
   "id": "820717be-3069-46ce-9c63-975575ceecbf",
   "metadata": {},
   "outputs": [
    {
     "data": {
      "text/plain": [
       "[2, 3]"
      ]
     },
     "execution_count": 10,
     "metadata": {},
     "output_type": "execute_result"
    }
   ],
   "source": [
    "list_"
   ]
  },
  {
   "cell_type": "markdown",
   "id": "16f97c83-7e3a-4fe2-8bd2-803bc04a9782",
   "metadata": {},
   "source": [
    "Q6. What is a complex number in mathematics, and how is it represented in Python?"
   ]
  },
  {
   "cell_type": "markdown",
   "id": "dbe4d693-2b1d-41ad-9b1a-aa88c8bae4fd",
   "metadata": {},
   "source": [
    "Complex number in mathematics is the combination of real and imaginary numbers, i.e. a + ib where a and b stands for real number and i stands for imaginary number.\n",
    "\n",
    "It is represented in python by using complex data type\n",
    "example:"
   ]
  },
  {
   "cell_type": "code",
   "execution_count": 11,
   "id": "b8a4542f-10ba-4f50-9bba-30d8b7b49f90",
   "metadata": {},
   "outputs": [
    {
     "data": {
      "text/plain": [
       "(3+4j)"
      ]
     },
     "execution_count": 11,
     "metadata": {},
     "output_type": "execute_result"
    }
   ],
   "source": [
    "3+4j"
   ]
  },
  {
   "cell_type": "code",
   "execution_count": 12,
   "id": "11a4304a-ca90-40d1-b91f-45d876e7972b",
   "metadata": {},
   "outputs": [
    {
     "data": {
      "text/plain": [
       "complex"
      ]
     },
     "execution_count": 12,
     "metadata": {},
     "output_type": "execute_result"
    }
   ],
   "source": [
    "type(3+4j)"
   ]
  },
  {
   "cell_type": "markdown",
   "id": "9c3c6da3-3aaa-4890-a7b0-a8198a007002",
   "metadata": {},
   "source": [
    "Q7. What is the correct way to declare a variable named age and assign the value 25 to it?"
   ]
  },
  {
   "cell_type": "code",
   "execution_count": 13,
   "id": "0ab64c6c-35a7-4e9b-8288-2917d57dd182",
   "metadata": {},
   "outputs": [],
   "source": [
    "age = 25"
   ]
  },
  {
   "cell_type": "markdown",
   "id": "7736c34d-f962-4b9b-99c6-34a058ff8b37",
   "metadata": {},
   "source": [
    "Q8. Declare a variable named price and assign the value 9.99 to it. What data type does this variable\n",
    "belong to?"
   ]
  },
  {
   "cell_type": "code",
   "execution_count": 15,
   "id": "e70b35fa-dd22-4f3b-bb01-b981942d6d1b",
   "metadata": {},
   "outputs": [],
   "source": [
    "price = 99.9"
   ]
  },
  {
   "cell_type": "code",
   "execution_count": 16,
   "id": "550603a6-9f6c-4d70-8c85-d2f4baf261fc",
   "metadata": {},
   "outputs": [
    {
     "data": {
      "text/plain": [
       "float"
      ]
     },
     "execution_count": 16,
     "metadata": {},
     "output_type": "execute_result"
    }
   ],
   "source": [
    "type(price)"
   ]
  },
  {
   "cell_type": "markdown",
   "id": "df63b581-4776-4df9-8122-927a152c1158",
   "metadata": {},
   "source": [
    "Q9. Create a variable named name and assign your full name to it as a string. How would you print the\n",
    "value of this variable?"
   ]
  },
  {
   "cell_type": "code",
   "execution_count": 17,
   "id": "b91dbb3a-f571-4e57-a737-0d7a6115c64b",
   "metadata": {},
   "outputs": [],
   "source": [
    "name = \"Rupesh Sanjay Neve\""
   ]
  },
  {
   "cell_type": "code",
   "execution_count": 18,
   "id": "aeabb140-dad8-4de2-ac49-aaa90417a26c",
   "metadata": {},
   "outputs": [
    {
     "name": "stdout",
     "output_type": "stream",
     "text": [
      "Rupesh Sanjay Neve\n"
     ]
    }
   ],
   "source": [
    "print(name)"
   ]
  },
  {
   "cell_type": "markdown",
   "id": "f37456bd-a6f5-4ed4-acb0-d8c8cc88ec30",
   "metadata": {},
   "source": [
    "Q10. Given the string \"Hello, World!\", extract the substring \"World\"."
   ]
  },
  {
   "cell_type": "code",
   "execution_count": 19,
   "id": "21cb4239-6b50-4bc7-84bc-203e586b3e39",
   "metadata": {},
   "outputs": [],
   "source": [
    "string = \"Hello, World!\""
   ]
  },
  {
   "cell_type": "code",
   "execution_count": 22,
   "id": "83a41682-936f-427c-9ee3-f808760e90ce",
   "metadata": {},
   "outputs": [],
   "source": [
    "sub_str = string[7:12]"
   ]
  },
  {
   "cell_type": "code",
   "execution_count": 23,
   "id": "3f1c1fa1-2f17-4a53-9465-5a97ca16cfe1",
   "metadata": {},
   "outputs": [
    {
     "data": {
      "text/plain": [
       "'World'"
      ]
     },
     "execution_count": 23,
     "metadata": {},
     "output_type": "execute_result"
    }
   ],
   "source": [
    "sub_str"
   ]
  },
  {
   "cell_type": "markdown",
   "id": "b9ad7821-d111-4d73-b0bc-5555ea3145fc",
   "metadata": {},
   "source": [
    "Q11. Create a variable named \"is_student\" and assign it a boolean value indicating whether you are\n",
    "currently a student or not."
   ]
  },
  {
   "cell_type": "code",
   "execution_count": 24,
   "id": "8b715a86-46a7-44e5-a03c-bcab4cc1dec2",
   "metadata": {},
   "outputs": [],
   "source": [
    "is_student = True"
   ]
  },
  {
   "cell_type": "code",
   "execution_count": 25,
   "id": "4bfbcf19-783a-4b1a-aba1-f167501a3ca1",
   "metadata": {},
   "outputs": [
    {
     "data": {
      "text/plain": [
       "True"
      ]
     },
     "execution_count": 25,
     "metadata": {},
     "output_type": "execute_result"
    }
   ],
   "source": [
    "is_student"
   ]
  }
 ],
 "metadata": {
  "kernelspec": {
   "display_name": "Python 3 (ipykernel)",
   "language": "python",
   "name": "python3"
  },
  "language_info": {
   "codemirror_mode": {
    "name": "ipython",
    "version": 3
   },
   "file_extension": ".py",
   "mimetype": "text/x-python",
   "name": "python",
   "nbconvert_exporter": "python",
   "pygments_lexer": "ipython3",
   "version": "3.10.8"
  }
 },
 "nbformat": 4,
 "nbformat_minor": 5
}
